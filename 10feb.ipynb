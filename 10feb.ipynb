{
 "cells": [
  {
   "cell_type": "code",
   "execution_count": 2,
   "id": "97c0fc02-65e9-4638-9e6e-1309db344cd4",
   "metadata": {},
   "outputs": [],
   "source": [
    "\n",
    "\n",
    "# Q1.Opening a File\n",
    "# In Python, the open() function is used to open files. The various modes for opening files include:\n",
    "\n",
    "# 'r': Opens a file for reading. (Default mode)\n",
    "# 'w': Opens a file for writing. Creates a new file or truncates an existing file to zero length.\n",
    "# 'a': Opens a file for appending. The file pointer is at the end of the file, and any writing is added to the end.\n",
    "# 'r+': Opens a file for both reading and writing.\n",
    "# 'b': Binary mode. Appended to other modes to open the file in binary mode."
   ]
  },
  {
   "cell_type": "code",
   "execution_count": 4,
   "id": "11df72d7-effd-4ff3-867b-60c339b6315c",
   "metadata": {},
   "outputs": [],
   "source": [
    "# Q2. Purpose of close() Function\n",
    "# The close() function is used to close an opened file. It's important to close files properly after operations because it frees up system resources and ensures that all data is written to the file."
   ]
  },
  {
   "cell_type": "code",
   "execution_count": 5,
   "id": "9b4a293a-428f-4a20-b120-9afa475e4680",
   "metadata": {},
   "outputs": [
    {
     "name": "stdout",
     "output_type": "stream",
     "text": [
      "I want to become a Data Scientist\n"
     ]
    }
   ],
   "source": [
    "# Create a file and write content\n",
    "with open('data_scientist.txt', 'w') as file:\n",
    "    file.write('I want to become a Data Scientist')\n",
    "\n",
    "# Open the file and read its content\n",
    "with open('data_scientist.txt', 'r') as file:\n",
    "    content = file.read()\n",
    "    print(content)\n"
   ]
  },
  {
   "cell_type": "code",
   "execution_count": 6,
   "id": "78b21691-0191-4af8-baa3-c174a4f8cc27",
   "metadata": {},
   "outputs": [],
   "source": [
    "# Q4. Explanation of read(), readline(), and readlines()\n",
    "# read(): Reads the entire file content as a string.\n",
    "# readline(): Reads a single line from the file.\n",
    "# readlines(): Reads all lines in the file and returns them as a list where each element is a line.\n",
    "# Q5. Use of with Statement with open()\n",
    "# The with statement is used with open() for file handling in Python. It automatically takes care of opening and closing the file, ensuring proper cleanup, even if an exception occurs. This reduces the chance of errors and simplifies the code by eliminating the need for explicit close() statements."
   ]
  },
  {
   "cell_type": "code",
   "execution_count": 7,
   "id": "50cf71c5-01b8-47aa-a970-b7b633e16599",
   "metadata": {},
   "outputs": [],
   "source": [
    "# Using write()\n",
    "with open('example.txt', 'w') as file:\n",
    "    file.write('This is line 1\\n')\n",
    "    file.write('This is line 2\\n')\n",
    "\n",
    "# Using writelines()\n",
    "lines = ['Line 1\\n', 'Line 2\\n', 'Line 3\\n']\n",
    "with open('example.txt', 'a') as file:\n",
    "    file.writelines(lines)\n"
   ]
  },
  {
   "cell_type": "code",
   "execution_count": null,
   "id": "5a74b351-84bd-4453-9667-f918c5fab918",
   "metadata": {},
   "outputs": [],
   "source": []
  }
 ],
 "metadata": {
  "kernelspec": {
   "display_name": "Python 3 (ipykernel)",
   "language": "python",
   "name": "python3"
  },
  "language_info": {
   "codemirror_mode": {
    "name": "ipython",
    "version": 3
   },
   "file_extension": ".py",
   "mimetype": "text/x-python",
   "name": "python",
   "nbconvert_exporter": "python",
   "pygments_lexer": "ipython3",
   "version": "3.10.8"
  }
 },
 "nbformat": 4,
 "nbformat_minor": 5
}
