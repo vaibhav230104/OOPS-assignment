{
 "cells": [
  {
   "cell_type": "code",
   "execution_count": null,
   "id": "4a790565-0613-4150-a190-47b5e7431cb2",
   "metadata": {},
   "outputs": [],
   "source": [
    "# Q1. Explain GET and POST methods.\n",
    "\n",
    "# GET and POST are HTTP methods used for communication between a client (such as a browser) and a server.\n",
    "# - GET: Requests data from a specified resource. Parameters are sent via the URL. It's less secure and has limitations on data size.\n",
    "# - POST: Submits data to be processed to a specified resource. Parameters are sent in the request body. It's more secure and allows larger data to be sent.\n",
    "\n",
    "# Q2. Why is request used in Flask?\n",
    "\n",
    "# 'request' in Flask is used to handle incoming requests from clients. It allows access to incoming form data, query parameters, file uploads, etc., sent in the HTTP request. It provides a way to interact with the data sent by the client to the server.\n",
    "\n",
    "# Q3. Why is redirect() used in Flask?\n",
    "\n",
    "# 'redirect()' in Flask is used to redirect the user to a different route or URL. It's commonly used after form submissions or to direct users to a different page after performing certain actions on a web application.\n",
    "\n",
    "# Q4. What are templates in Flask? Why is the render_template() function used?\n",
    "\n",
    "# Templates in Flask are HTML files containing placeholders for dynamic content. They allow for the creation of dynamic web pages by injecting data into HTML. The 'render_template()' function in Flask is used to render these HTML templates by passing dynamic data from the Python code to the HTML template for rendering.\n",
    "\n",
    "# Q5. Create a simple API. Use Postman to test it. Attach the screenshot of the output in the Jupyter Notebook.\n",
    "\n",
    "from flask import Flask, jsonify\n",
    "\n",
    "app = Flask(__name__)\n",
    "\n",
    "@app.route('/api', methods=['GET', 'POST'])\n",
    "def simple_api():\n",
    "    if request.method == 'GET':\n",
    "        return jsonify({'message': 'This is a GET request to the API'})\n",
    " \n"
   ]
  }
 ],
 "metadata": {
  "kernelspec": {
   "display_name": "Python 3 (ipykernel)",
   "language": "python",
   "name": "python3"
  },
  "language_info": {
   "codemirror_mode": {
    "name": "ipython",
    "version": 3
   },
   "file_extension": ".py",
   "mimetype": "text/x-python",
   "name": "python",
   "nbconvert_exporter": "python",
   "pygments_lexer": "ipython3",
   "version": "3.10.8"
  }
 },
 "nbformat": 4,
 "nbformat_minor": 5
}
