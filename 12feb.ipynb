{
 "cells": [
  {
   "cell_type": "code",
   "execution_count": 2,
   "id": "b59109a7-9de5-48c7-a6e2-a2378cd95692",
   "metadata": {},
   "outputs": [],
   "source": [
    "# Q1. Exceptions in Python\n",
    "# An exception in Python is an event that disrupts the normal flow of a program's execution. It occurs when an error is encountered during runtime. Differences between exceptions and syntax errors:\n",
    "\n",
    "# Exceptions: Errors that occur during execution due to unexpected conditions.\n",
    "# Syntax Errors: Occur when there is an error in the syntax of the code and prevent the code from running."
   ]
  },
  {
   "cell_type": "code",
   "execution_count": null,
   "id": "0f876f9e-83b7-4d35-b39d-b908fc3cc2d2",
   "metadata": {},
   "outputs": [],
   "source": [
    "def divide(a, b):\n",
    "    return a / b\n",
    "\n",
    "result = divide(5, 0)  # This will raise a ZeroDivisionError\n"
   ]
  },
  {
   "cell_type": "code",
   "execution_count": 3,
   "id": "d5d33b13-af58-4380-8c38-3dbc796089c4",
   "metadata": {},
   "outputs": [
    {
     "name": "stdout",
     "output_type": "stream",
     "text": [
      "Cannot divide by zero!\n",
      "Execution complete.\n"
     ]
    }
   ],
   "source": [
    "#Q3\n",
    "try:\n",
    "    result = 10 / 0\n",
    "except ZeroDivisionError:\n",
    "    print(\"Cannot divide by zero!\")\n",
    "else:\n",
    "    print(\"Division successful.\")\n",
    "finally:\n",
    "    print(\"Execution complete.\")\n"
   ]
  },
  {
   "cell_type": "code",
   "execution_count": 4,
   "id": "2500f7ac-54c5-45cb-9558-fc9e35076867",
   "metadata": {},
   "outputs": [
    {
     "name": "stdin",
     "output_type": "stream",
     "text": [
      "Enter a number:  5\n"
     ]
    },
    {
     "name": "stdout",
     "output_type": "stream",
     "text": [
      "Input is valid.\n",
      "Execution complete.\n"
     ]
    }
   ],
   "source": [
    "#Q4\n",
    "try:\n",
    "    num = int(input(\"Enter a number: \"))\n",
    "    if num < 0:\n",
    "        raise ValueError(\"Number should be positive\")\n",
    "except ValueError as e:\n",
    "    print(\"Invalid input:\", e)\n",
    "else:\n",
    "    print(\"Input is valid.\")\n",
    "finally:\n",
    "    print(\"Execution complete.\")\n"
   ]
  },
  {
   "cell_type": "code",
   "execution_count": 5,
   "id": "dbd222ce-b194-445e-bace-e793a84210b1",
   "metadata": {},
   "outputs": [
    {
     "name": "stdout",
     "output_type": "stream",
     "text": [
      "Custom error occurred: Empty data!\n"
     ]
    }
   ],
   "source": [
    "#Q5\n",
    "class CustomError(Exception):\n",
    "    pass\n",
    "\n",
    "def process_data(data):\n",
    "    if not data:\n",
    "        raise CustomError(\"Empty data!\")\n",
    "\n",
    "try:\n",
    "    process_data([])\n",
    "except CustomError as e:\n",
    "    print(\"Custom error occurred:\", e)\n"
   ]
  },
  {
   "cell_type": "code",
   "execution_count": 6,
   "id": "e6ebaca1-5347-42b9-a7ec-1d79475e8b44",
   "metadata": {},
   "outputs": [
    {
     "name": "stdout",
     "output_type": "stream",
     "text": [
      "Custom error occurred: Invalid age\n"
     ]
    }
   ],
   "source": [
    "#Q6\n",
    "class CustomError(Exception):\n",
    "    def __init__(self, message):\n",
    "        self.message = message\n",
    "\n",
    "def validate_age(age):\n",
    "    if age < 0 or age > 120:\n",
    "        raise CustomError(\"Invalid age\")\n",
    "\n",
    "try:\n",
    "    validate_age(150)\n",
    "except CustomError as e:\n",
    "    print(\"Custom error occurred:\", e.message)\n"
   ]
  },
  {
   "cell_type": "code",
   "execution_count": null,
   "id": "dffa4b34-f826-4b07-944f-60258402c86a",
   "metadata": {},
   "outputs": [],
   "source": []
  }
 ],
 "metadata": {
  "kernelspec": {
   "display_name": "Python 3 (ipykernel)",
   "language": "python",
   "name": "python3"
  },
  "language_info": {
   "codemirror_mode": {
    "name": "ipython",
    "version": 3
   },
   "file_extension": ".py",
   "mimetype": "text/x-python",
   "name": "python",
   "nbconvert_exporter": "python",
   "pygments_lexer": "ipython3",
   "version": "3.10.8"
  }
 },
 "nbformat": 4,
 "nbformat_minor": 5
}
