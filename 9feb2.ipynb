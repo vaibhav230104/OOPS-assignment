{
 "cells": [
  {
   "cell_type": "code",
   "execution_count": 1,
   "id": "b2674159-60fe-4b96-a0b3-2c3b37b8c146",
   "metadata": {},
   "outputs": [],
   "source": [
    "\n",
    "# Q1\n",
    "class Vehicle:\n",
    "    def __init__(self, name_of_vehicle, max_speed, average_of_vehicle):\n",
    "        self.name_of_vehicle = name_of_vehicle\n",
    "        self.max_speed = max_speed\n",
    "        self.average_of_vehicle = average_of_vehicle\n",
    "\n",
    "# Q2\n",
    "class Car(Vehicle):\n",
    "    def seating_capacity(self, capacity):\n",
    "        return f\"{self.name_of_vehicle} has a seating capacity of {capacity} people.\"\n"
   ]
  },
  {
   "cell_type": "code",
   "execution_count": 2,
   "id": "2ac4610d-4d05-445b-bbc5-64c82c6594c2",
   "metadata": {},
   "outputs": [
    {
     "name": "stdout",
     "output_type": "stream",
     "text": [
      "This is from Parent1 class\n",
      "This is from Parent2 class\n"
     ]
    }
   ],
   "source": [
    "class Parent1:\n",
    "    def method1(self):\n",
    "        print(\"This is from Parent1 class\")\n",
    "\n",
    "class Parent2:\n",
    "    def method2(self):\n",
    "        print(\"This is from Parent2 class\")\n",
    "\n",
    "class Child(Parent1, Parent2):\n",
    "    pass\n",
    "\n",
    "# Creating an instance of Child\n",
    "child_obj = Child()\n",
    "child_obj.method1()  # Output: This is from Parent1 class\n",
    "child_obj.method2()  # Output: This is from Parent2 class\n"
   ]
  },
  {
   "cell_type": "code",
   "execution_count": 3,
   "id": "81888e7a-6bae-4142-8b76-1238b7a78092",
   "metadata": {},
   "outputs": [
    {
     "name": "stdout",
     "output_type": "stream",
     "text": [
      "0\n",
      "10\n"
     ]
    }
   ],
   "source": [
    "#Q4\n",
    "class Example:\n",
    "    def __init__(self):\n",
    "        self._value = 0\n",
    "\n",
    "    # Getter method\n",
    "    def get_value(self):\n",
    "        return self._value\n",
    "\n",
    "    # Setter method\n",
    "    def set_value(self, new_value):\n",
    "        self._value = new_value\n",
    "\n",
    "# Creating an instance of Example class\n",
    "obj = Example()\n",
    "\n",
    "# Using the getter and setter methods\n",
    "print(obj.get_value())  # Output: 0\n",
    "obj.set_value(10)\n",
    "print(obj.get_value())  # Output: 10\n"
   ]
  },
  {
   "cell_type": "code",
   "execution_count": 4,
   "id": "27f6d31a-a70d-4bac-b69d-9b8aa3c2ea37",
   "metadata": {},
   "outputs": [
    {
     "name": "stdout",
     "output_type": "stream",
     "text": [
      "This is from Parent class\n",
      "This is from Child class\n"
     ]
    }
   ],
   "source": [
    "#Q5\n",
    "class Parent:\n",
    "    def show(self):\n",
    "        print(\"This is from Parent class\")\n",
    "\n",
    "class Child(Parent):\n",
    "    def show(self):\n",
    "        print(\"This is from Child class\")\n",
    "\n",
    "# Creating instances of both classes\n",
    "parent_obj = Parent()\n",
    "child_obj = Child()\n",
    "\n",
    "# Method overriding\n",
    "parent_obj.show()  # Output: This is from Parent class\n",
    "child_obj.show()   # Output: This is from Child class\n"
   ]
  },
  {
   "cell_type": "code",
   "execution_count": null,
   "id": "49e86873-f9be-42cf-a044-0730f336608c",
   "metadata": {},
   "outputs": [],
   "source": []
  }
 ],
 "metadata": {
  "kernelspec": {
   "display_name": "Python 3 (ipykernel)",
   "language": "python",
   "name": "python3"
  },
  "language_info": {
   "codemirror_mode": {
    "name": "ipython",
    "version": 3
   },
   "file_extension": ".py",
   "mimetype": "text/x-python",
   "name": "python",
   "nbconvert_exporter": "python",
   "pygments_lexer": "ipython3",
   "version": "3.10.8"
  }
 },
 "nbformat": 4,
 "nbformat_minor": 5
}
