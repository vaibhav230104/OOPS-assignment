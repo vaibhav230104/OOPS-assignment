{
 "cells": [
  {
   "cell_type": "code",
   "execution_count": null,
   "id": "e0c81364-2a64-4b38-8307-1ce83ffcb836",
   "metadata": {},
   "outputs": [],
   "source": [
    "# \"self\" represents the instance of the class. By using the “self”  we can access the attributes and methods of the class in python. The reason you need to use \"self\" is because Python does not use special syntax to refer to instance attributes."
   ]
  }
 ],
 "metadata": {
  "kernelspec": {
   "display_name": "Python 3 (ipykernel)",
   "language": "python",
   "name": "python3"
  },
  "language_info": {
   "codemirror_mode": {
    "name": "ipython",
    "version": 3
   },
   "file_extension": ".py",
   "mimetype": "text/x-python",
   "name": "python",
   "nbconvert_exporter": "python",
   "pygments_lexer": "ipython3",
   "version": "3.10.8"
  }
 },
 "nbformat": 4,
 "nbformat_minor": 5
}
