{
 "cells": [
  {
   "cell_type": "code",
   "execution_count": 9,
   "id": "a4cbe2cf-e1e0-468c-9a9e-fa5c50023eea",
   "metadata": {},
   "outputs": [
    {
     "name": "stdout",
     "output_type": "stream",
     "text": [
      "Radius: 5\n"
     ]
    }
   ],
   "source": [
    "# __init__() function is a special method that is used as the constructor for a class. It is automatically called when an object of that class is created. The __init__() method is used to initialize the attributes (data members) of an object.\n",
    "class Circle:\n",
    "    def __init__(self, radius):\n",
    "        self.radius = radius\n",
    "        \n",
    "    def calculate_area(self):\n",
    "        self.area = 3.14 * self.radius * self.radius\n",
    "        \n",
    "my_circle = Circle(5)\n",
    "print(\"Radius:\", my_circle.radius)"
   ]
  },
  {
   "cell_type": "code",
   "execution_count": 10,
   "id": "3702ba93-5fd4-4840-9d43-38b1103e70ff",
   "metadata": {},
   "outputs": [],
   "source": [
    "my_circle.calculate_area()"
   ]
  },
  {
   "cell_type": "code",
   "execution_count": 11,
   "id": "7424604c-b163-44fb-aaae-2f048510f5d3",
   "metadata": {},
   "outputs": [
    {
     "data": {
      "text/plain": [
       "78.5"
      ]
     },
     "execution_count": 11,
     "metadata": {},
     "output_type": "execute_result"
    }
   ],
   "source": [
    "my_circle.area\n"
   ]
  }
 ],
 "metadata": {
  "kernelspec": {
   "display_name": "Python 3 (ipykernel)",
   "language": "python",
   "name": "python3"
  },
  "language_info": {
   "codemirror_mode": {
    "name": "ipython",
    "version": 3
   },
   "file_extension": ".py",
   "mimetype": "text/x-python",
   "name": "python",
   "nbconvert_exporter": "python",
   "pygments_lexer": "ipython3",
   "version": "3.10.8"
  }
 },
 "nbformat": 4,
 "nbformat_minor": 5
}
