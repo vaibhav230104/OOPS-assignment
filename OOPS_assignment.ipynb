{
 "cells": [
  {
   "cell_type": "code",
   "execution_count": 2,
   "id": "e6849c12-2384-42e0-bc5b-2a18655f1bab",
   "metadata": {},
   "outputs": [
    {
     "name": "stdout",
     "output_type": "stream",
     "text": [
      "Toyota\n",
      "Accord\n",
      "5\n",
      "5\n"
     ]
    }
   ],
   "source": [
    "#Q1\n",
    "#A class is like a blueprint, and an object is an actual implementation of that blueprint.\n",
    "class Car:\n",
    "    def __init__(self, make, model, year):\n",
    "        self.make = make\n",
    "        self.model = model\n",
    "        self.year = year\n",
    "        self.speed = 0\n",
    "\n",
    "    def accelerate(self):\n",
    "        self.speed += 5\n",
    "\n",
    "    def brake(self):\n",
    "        if self.speed >= 5:\n",
    "            self.speed -= 5\n",
    "        else:\n",
    "            self.speed = 0\n",
    "\n",
    "    def get_speed(self):\n",
    "        return self.speed\n",
    "# Creating two car objects\n",
    "car1 = Car(\"Toyota\", \"Camry\", 2020)\n",
    "car2 = Car(\"Honda\", \"Accord\", 2019)\n",
    "\n",
    "print(car1.make)  \n",
    "print(car2.model)  \n",
    "\n",
    "car1.accelerate()\n",
    "print(car1.get_speed())  \n",
    "\n",
    "car2.accelerate()\n",
    "car2.accelerate()\n",
    "car2.brake()\n",
    "print(car2.get_speed()) "
   ]
  },
  {
   "cell_type": "code",
   "execution_count": 3,
   "id": "5812451f-d972-401b-abe3-1c37c69684c2",
   "metadata": {},
   "outputs": [],
   "source": [
    "#Q2\n",
    "#1. Encapsulation\n",
    "#2. Inheritance\n",
    "#3. Polymorphism\n",
    "#4. Abstraction"
   ]
  },
  {
   "cell_type": "code",
   "execution_count": 4,
   "id": "404e8e4d-202b-4098-9be0-68ada0085e57",
   "metadata": {},
   "outputs": [
    {
     "name": "stdout",
     "output_type": "stream",
     "text": [
      "Radius: 5\n"
     ]
    },
    {
     "data": {
      "text/plain": [
       "78.5"
      ]
     },
     "execution_count": 4,
     "metadata": {},
     "output_type": "execute_result"
    }
   ],
   "source": [
    "#Q3\n",
    "# __init__() function is a special method that is used as the constructor for a class. It is automatically called when an object of that class is created. The __init__() method is used to initialize the attributes (data members) of an object.\n",
    "class Circle:\n",
    "    def __init__(self, radius):\n",
    "        self.radius = radius\n",
    "        \n",
    "    def calculate_area(self):\n",
    "        self.area = 3.14 * self.radius * self.radius\n",
    "        \n",
    "my_circle = Circle(5)\n",
    "print(\"Radius:\", my_circle.radius)\n",
    "\n",
    "my_circle.calculate_area()\n",
    "my_circle.area"
   ]
  },
  {
   "cell_type": "code",
   "execution_count": 5,
   "id": "1cc67904-7e02-401b-b381-c0d400a1b487",
   "metadata": {},
   "outputs": [],
   "source": [
    "#Q4\n",
    "# \"self\" represents the instance of the class. By using the “self”  we can access the attributes and methods of the class in python. The reason you need to use \"self\" is because python don't use special syntax"
   ]
  },
  {
   "cell_type": "code",
   "execution_count": 6,
   "id": "f0498888-e9dc-4e2d-bdb9-d779b835e712",
   "metadata": {},
   "outputs": [
    {
     "name": "stdout",
     "output_type": "stream",
     "text": [
      "The dog barks\n",
      "Engine starts\n",
      "Wheels rotate\n",
      "Drawing a rectangle\n",
      "The animal speaks\n",
      "The mammal walks\n",
      "The dog barks\n"
     ]
    }
   ],
   "source": [
    "#Q5\n",
    "#Inheritance is a concept in object-oriented programming (OOP) where a class inherits properties and methods from another class. The class that inherits is called the subclass and from where it inherits is called superclass.\n",
    "# 1. Single inheritance: In this type of inheritance, a subclass inherits from only one superclass.\n",
    "class Animal:\n",
    "    def speak(self):\n",
    "        print(\"The animal speaks\")\n",
    "\n",
    "class Dog(Animal):\n",
    "    def speak(self):\n",
    "        print(\"The dog barks\")\n",
    "\n",
    "dog = Dog()\n",
    "dog.speak()  \n",
    "\n",
    "# 2. Multiple inheritance: In this type of inheritance, a subclass can inherit from more than one superclass.\n",
    "class Engine:\n",
    "    def start(self):\n",
    "        print(\"Engine starts\")\n",
    "\n",
    "class Wheels:\n",
    "    def rotate(self):\n",
    "        print(\"Wheels rotate\")\n",
    "\n",
    "class Car(Engine, Wheels):\n",
    "    pass\n",
    "\n",
    "car = Car()\n",
    "car.start() \n",
    "car.rotate()  \n",
    "\n",
    "# 3. Hierarchical inheritance: In this type of inheritance, multiple subclasses inherit from a single superclass.\n",
    "class Shape:\n",
    "    def draw(self):\n",
    "        print(\"Drawing a shape\")\n",
    "\n",
    "class Circle(Shape):\n",
    "    def draw(self):\n",
    "        print(\"Drawing a circle\")\n",
    "\n",
    "class Rectangle(Shape):\n",
    "    def draw(self):\n",
    "        print(\"Drawing a rectangle\")\n",
    "        \n",
    "rectangle = Rectangle()\n",
    "rectangle.draw()\n",
    "\n",
    "# 4. Multi-level inheritance: In this type of inheritance, a subclass inherits from a superclass, which in turn inherits from another superclass. \n",
    "class Animal:\n",
    "    def speak(self):\n",
    "        print(\"The animal speaks\")\n",
    "\n",
    "class Mammal(Animal):\n",
    "    def walk(self):\n",
    "        print(\"The mammal walks\")\n",
    "\n",
    "class Dog(Mammal):\n",
    "    def bark(self):\n",
    "        print(\"The dog barks\")\n",
    "\n",
    "dog = Dog()\n",
    "dog.speak()  \n",
    "dog.walk() \n",
    "dog.bark()   "
   ]
  },
  {
   "cell_type": "code",
   "execution_count": null,
   "id": "1b241f92-3384-46b3-ac15-874c8f195121",
   "metadata": {},
   "outputs": [],
   "source": []
  }
 ],
 "metadata": {
  "kernelspec": {
   "display_name": "Python 3 (ipykernel)",
   "language": "python",
   "name": "python3"
  },
  "language_info": {
   "codemirror_mode": {
    "name": "ipython",
    "version": 3
   },
   "file_extension": ".py",
   "mimetype": "text/x-python",
   "name": "python",
   "nbconvert_exporter": "python",
   "pygments_lexer": "ipython3",
   "version": "3.10.8"
  }
 },
 "nbformat": 4,
 "nbformat_minor": 5
}
