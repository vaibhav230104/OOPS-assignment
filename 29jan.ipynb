{
 "cells": [
  {
   "cell_type": "code",
   "execution_count": null,
   "id": "98599db4-bf25-4d1d-8320-a3c52d4fcddc",
   "metadata": {},
   "outputs": [],
   "source": [
    "\n",
    "1. Python was developed by Guido van Rossum.\n",
    "\n",
    "2. Python supports multiple programming paradigms like procedural, object-oriented, and functional programming.\n",
    "\n",
    "3. Yes, Python is case-sensitive when dealing with identifiers.\n",
    "\n",
    "4. The correct extension for a Python file is \".py\".\n",
    "\n",
    "5. Python code is interpreted, although it undergoes a compilation process to bytecode before execution.\n",
    "\n",
    "6. In Python, you define blocks of code using structures like functions, classes, loops (such as `for` and `while`), and conditional statements (`if`, `else`, `elif`).\n",
    "\n",
    "7. The character '#' is used for single-line comments in Python.\n",
    "\n",
    "SKILLS\n",
    "\n",
    "8. Functions like `sys.version`, `platform.python_version()`, or `sys.version_info` can help find the Python version.\n",
    "\n",
    "9. Python supports the creation of anonymous functions using the `lambda` keyword.\n",
    "\n",
    "10. 'pip' stands for \"Pip Installs Packages\" or \"Pip Installs Python\".\n",
    "\n",
    "11. Some built-in functions in Python include `print()`, `len()`, `range()`, `type()`, and `input()`.\n",
    "\n",
    "12. The maximum possible length of an identifier in Python is not explicitly defined but is practically limited by memory.\n",
    "\n",
    "13. Python offers simplicity, readability, extensive libraries, and versatility, making it suitable for various applications from web development to scientific computing.\n",
    "\n",
    "14. Memory management in Python is handled by a private heap space managed by Python's memory allocator.\n",
    "\n",
    "15. To install Python on Windows, download the installer from python.org, run it, and select \"Add Python to PATH\" during installation.\n",
    "\n",
    "16. Yes, indentation is required in Python to define blocks of code; it determines the scope and structure of the code."
   ]
  }
 ],
 "metadata": {
  "kernelspec": {
   "display_name": "Python 3 (ipykernel)",
   "language": "python",
   "name": "python3"
  },
  "language_info": {
   "codemirror_mode": {
    "name": "ipython",
    "version": 3
   },
   "file_extension": ".py",
   "mimetype": "text/x-python",
   "name": "python",
   "nbconvert_exporter": "python",
   "pygments_lexer": "ipython3",
   "version": "3.10.8"
  }
 },
 "nbformat": 4,
 "nbformat_minor": 5
}
