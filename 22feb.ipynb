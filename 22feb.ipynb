{
 "cells": [
  {
   "cell_type": "code",
   "execution_count": null,
   "id": "31bf12fe-c30f-4734-b45f-21f322a6a901",
   "metadata": {},
   "outputs": [],
   "source": [
    "import requests\n",
    "from bs4 import BeautifulSoup\n",
    "import csv\n",
    "\n",
    "# Send a request to the YouTube page\n",
    "url = 'https://www.youtube.com/@PW-Foundation/videos'\n",
    "response = requests.get(url)\n",
    "\n",
    "# Parse the HTML content using BeautifulSoup\n",
    "soup = BeautifulSoup(response.content, 'html.parser')\n",
    "\n",
    "# Q1. Extract the video URLs of the first five videos\n",
    "video_urls = []\n",
    "videos = soup.find_all('a', {'id': 'video-title'})\n",
    "for video in videos[:5]:\n",
    "    video_urls.append('https://www.youtube.com' + video['href'])\n",
    "\n",
    "# Q2. Extract the URL of the video thumbnails of the first five videos\n",
    "thumbnail_urls = []\n",
    "thumbnails = soup.find_all('img', {'class': 'style-scope yt-img-shadow'})\n",
    "for thumbnail in thumbnails[:5]:\n",
    "    thumbnail_urls.append(thumbnail['src'])\n",
    "\n",
    "# Q3. Extract the title of the first five videos\n",
    "titles = []\n",
    "for video in videos[:5]:\n",
    "    titles.append(video['title'])\n",
    "\n",
    "# Q4. Extract the number of views of the first five videos\n",
    "view_counts = []\n",
    "views = soup.find_all('span', {'class': 'style-scope ytd-grid-video-renderer'})\n",
    "for view in views:\n",
    "    if 'views' in view.text:\n",
    "        view_counts.append(view.text.strip())\n",
    "\n",
    "# Q5. Extract the time of posting of video for the first five videos\n",
    "post_times = []\n",
    "times = soup.find_all('span', {'class': 'style-scope ytd-grid-video-renderer'})\n",
    "for time in times:\n",
    "    if 'ago' in time.text:\n",
    "        post_times.append(time.text.strip())\n",
    "\n",
    "# Save all the data scraped in a CSV file\n",
    "with open('youtube_data.csv', 'w', newline='', encoding='utf-8') as file:\n",
    "    writer = csv.writer(file)\n",
    "    writer.writerow(['Video Title', 'Video URL', 'Thumbnail URL', 'View Count', 'Post Time'])\n",
    "    for i in range(5):\n",
    "        writer.writerow([titles[i], video_urls[i], thumbnail_urls[i], view_counts[i], post_times[i]])\n"
   ]
  }
 ],
 "metadata": {
  "kernelspec": {
   "display_name": "Python 3 (ipykernel)",
   "language": "python",
   "name": "python3"
  },
  "language_info": {
   "codemirror_mode": {
    "name": "ipython",
    "version": 3
   },
   "file_extension": ".py",
   "mimetype": "text/x-python",
   "name": "python",
   "nbconvert_exporter": "python",
   "pygments_lexer": "ipython3",
   "version": "3.10.8"
  }
 },
 "nbformat": 4,
 "nbformat_minor": 5
}
