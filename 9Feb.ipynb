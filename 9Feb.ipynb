{
 "cells": [
  {
   "cell_type": "code",
   "execution_count": 1,
   "id": "ea33f265-1965-422b-9d64-79391bc7ffc2",
   "metadata": {},
   "outputs": [],
   "source": [
    "class Vehicle:\n",
    "    def __init__(self, name_of_vehicle, max_speed, average_of_vehicle):\n",
    "        self.name_of_vehicle = name_of_vehicle\n",
    "        self.max_speed = max_speed\n",
    "        self.average_of_vehicle = average_of_vehicle\n"
   ]
  },
  {
   "cell_type": "code",
   "execution_count": 2,
   "id": "333c270a-a4bd-4812-8969-58bd6f4d40f9",
   "metadata": {},
   "outputs": [],
   "source": [
    "class Car(Vehicle):\n",
    "    def seating_capacity(self, capacity):\n",
    "        return f\"The {self.name_of_vehicle} has a seating capacity of {capacity} people.\"\n"
   ]
  },
  {
   "cell_type": "code",
   "execution_count": 3,
   "id": "6bd7e10d-073b-42f8-8a77-5b2b0417c479",
   "metadata": {},
   "outputs": [
    {
     "name": "stdout",
     "output_type": "stream",
     "text": [
      "Method from ClassA\n",
      "Method from ClassB\n"
     ]
    }
   ],
   "source": [
    "# Example demonstrating multiple inheritance\n",
    "class ClassA:\n",
    "    def methodA(self):\n",
    "        print(\"Method from ClassA\")\n",
    "\n",
    "class ClassB:\n",
    "    def methodB(self):\n",
    "        print(\"Method from ClassB\")\n",
    "\n",
    "class ClassC(ClassA, ClassB):\n",
    "    pass\n",
    "\n",
    "obj = ClassC()\n",
    "obj.methodA()  # Output: Method from ClassA\n",
    "obj.methodB()  # Output: Method from ClassB\n"
   ]
  },
  {
   "cell_type": "code",
   "execution_count": 4,
   "id": "35da53bc-3fcd-4555-8729-cc119552bd64",
   "metadata": {},
   "outputs": [
    {
     "name": "stdout",
     "output_type": "stream",
     "text": [
      "5\n"
     ]
    }
   ],
   "source": [
    "class MyClass:\n",
    "    def __init__(self):\n",
    "        self._my_variable = None  # Private variable conventionally denoted by '_'\n",
    "\n",
    "    def get_variable(self):\n",
    "        return self._my_variable\n",
    "\n",
    "    def set_variable(self, value):\n",
    "        self._my_variable = value\n",
    "\n",
    "# Usage:\n",
    "obj = MyClass()\n",
    "obj.set_variable(5)\n",
    "print(obj.get_variable())  # Output: 5\n"
   ]
  },
  {
   "cell_type": "code",
   "execution_count": 5,
   "id": "adf70910-6fa8-46a1-a15d-e72e9e9dadfc",
   "metadata": {},
   "outputs": [
    {
     "name": "stdout",
     "output_type": "stream",
     "text": [
      "Child class method\n"
     ]
    }
   ],
   "source": [
    "class ParentClass:\n",
    "    def show(self):\n",
    "        print(\"Parent class method\")\n",
    "\n",
    "class ChildClass(ParentClass):\n",
    "    def show(self):\n",
    "        print(\"Child class method\")\n",
    "\n",
    "# Usage:\n",
    "obj = ChildClass()\n",
    "obj.show()  # Output: Child class method\n"
   ]
  },
  {
   "cell_type": "code",
   "execution_count": null,
   "id": "18207826-cf59-4f6a-b0a4-7dcd426d8241",
   "metadata": {},
   "outputs": [],
   "source": []
  }
 ],
 "metadata": {
  "kernelspec": {
   "display_name": "Python 3 (ipykernel)",
   "language": "python",
   "name": "python3"
  },
  "language_info": {
   "codemirror_mode": {
    "name": "ipython",
    "version": 3
   },
   "file_extension": ".py",
   "mimetype": "text/x-python",
   "name": "python",
   "nbconvert_exporter": "python",
   "pygments_lexer": "ipython3",
   "version": "3.10.8"
  }
 },
 "nbformat": 4,
 "nbformat_minor": 5
}
