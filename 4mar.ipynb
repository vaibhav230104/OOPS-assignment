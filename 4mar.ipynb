{
 "cells": [
  {
   "cell_type": "code",
   "execution_count": null,
   "id": "9c4a155f-50cb-4d27-9206-7a7f165ecb4e",
   "metadata": {},
   "outputs": [],
   "source": [
    "import seaborn as sns\n",
    "import plotly.express as px\n",
    "\n",
    "# Q1. Load the \"titanic\" dataset using the load_dataset function of seaborn. Use Plotly express to plot a scatter plot for age and fare columns in the titanic dataset.\n",
    "\n",
    "titanic = sns.load_dataset(\"titanic\")\n",
    "fig1 = px.scatter(titanic, x='age', y='fare')\n",
    "fig1.show()\n",
    "\n",
    "# Q2. Using the tips dataset in the Plotly library, plot a box plot using Plotly express.\n",
    "\n",
    "tips = px.data.tips()\n",
    "fig2 = px.box(tips, y=\"total_bill\")\n",
    "fig2.show()\n",
    "\n",
    "# Q3. Using the tips dataset in the Plotly library, Plot a histogram for x= \"sex\" and y=\"total_bill\" column in the tips dataset. Also, use the \"smoker\" column with the pattern_shape parameter and the \"day\" column with the color parameter.\n",
    "\n",
    "fig3 = px.histogram(tips, x=\"sex\", y=\"total_bill\", color=\"day\", facet_col=\"smoker\", pattern_shape=\"smoker\")\n",
    "fig3.show()\n",
    "\n",
    "# Q4. Using the iris dataset in the Plotly library, Plot a scatter matrix plot, using the \"species\" column for the color parameter. Note: Use \"sepal_length\", \"sepal_width\", \"petal_length\", \"petal_width\" columns only with the dimensions parameter.\n",
    "\n",
    "iris = px.data.iris()\n",
    "fig4 = px.scatter_matrix(iris, dimensions=[\"sepal_length\", \"sepal_width\", \"petal_length\", \"petal_width\"], color=\"species\")\n",
    "fig4.show()\n",
    "\n",
    "# Q5. What is Distplot? Using Plotly express, plot a distplot.\n",
    "\n",
    "# distplot is a deprecated function in Seaborn that combined the functionality of a histogram with a KDE (Kernel Density Estimate) plot.\n",
    "# In Plotly Express, you can achieve similar plots using a histogram or KDE plot separately.\n",
    "\n",
    "# Example using histogram:\n",
    "tips = px.data.tips()\n",
    "fig5 = px.histogram(tips, x=\"total_bill\", marginal=\"rug\", nbins=30)\n",
    "fig5.show()\n"
   ]
  }
 ],
 "metadata": {
  "kernelspec": {
   "display_name": "Python 3 (ipykernel)",
   "language": "python",
   "name": "python3"
  },
  "language_info": {
   "codemirror_mode": {
    "name": "ipython",
    "version": 3
   },
   "file_extension": ".py",
   "mimetype": "text/x-python",
   "name": "python",
   "nbconvert_exporter": "python",
   "pygments_lexer": "ipython3",
   "version": "3.10.8"
  }
 },
 "nbformat": 4,
 "nbformat_minor": 5
}
