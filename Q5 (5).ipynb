{
 "cells": [
  {
   "cell_type": "code",
   "execution_count": 1,
   "id": "bd04e077-3228-4574-ba16-74ec06b54bfa",
   "metadata": {},
   "outputs": [],
   "source": [
    "#Inheritance is a concept in object-oriented programming (OOP) where a class inherits properties and methods from another class. The class that inherits is called the subclass or derived class, and the class from which it inherits is called the superclass or base class. "
   ]
  },
  {
   "cell_type": "code",
   "execution_count": 2,
   "id": "42965b2c-f2c0-48b6-abb8-d7d5fd2dc392",
   "metadata": {},
   "outputs": [
    {
     "name": "stdout",
     "output_type": "stream",
     "text": [
      "The dog barks\n"
     ]
    }
   ],
   "source": [
    "# 1. Single inheritance: In this type of inheritance, a subclass inherits from only one superclass.\n",
    "class Animal:\n",
    "    def speak(self):\n",
    "        print(\"The animal speaks\")\n",
    "\n",
    "class Dog(Animal):\n",
    "    def speak(self):\n",
    "        print(\"The dog barks\")\n",
    "\n",
    "dog = Dog()\n",
    "dog.speak()  \n"
   ]
  },
  {
   "cell_type": "code",
   "execution_count": 3,
   "id": "367c74ba-f860-4a76-994d-a9902152b608",
   "metadata": {},
   "outputs": [
    {
     "name": "stdout",
     "output_type": "stream",
     "text": [
      "Engine starts\n",
      "Wheels rotate\n"
     ]
    }
   ],
   "source": [
    "# 2. Multiple inheritance: In this type of inheritance, a subclass can inherit from more than one superclass.\n",
    "class Engine:\n",
    "    def start(self):\n",
    "        print(\"Engine starts\")\n",
    "\n",
    "class Wheels:\n",
    "    def rotate(self):\n",
    "        print(\"Wheels rotate\")\n",
    "\n",
    "class Car(Engine, Wheels):\n",
    "    pass\n",
    "\n",
    "car = Car()\n",
    "car.start() \n",
    "car.rotate()  \n"
   ]
  },
  {
   "cell_type": "code",
   "execution_count": 7,
   "id": "37209f3b-b078-4079-bc14-7438a2057d45",
   "metadata": {},
   "outputs": [
    {
     "name": "stdout",
     "output_type": "stream",
     "text": [
      "Drawing a rectangle\n"
     ]
    }
   ],
   "source": [
    "# 3. Hierarchical inheritance: In this type of inheritance, multiple subclasses inherit from a single superclass.\n",
    "class Shape:\n",
    "    def draw(self):\n",
    "        print(\"Drawing a shape\")\n",
    "\n",
    "class Circle(Shape):\n",
    "    def draw(self):\n",
    "        print(\"Drawing a circle\")\n",
    "\n",
    "class Rectangle(Shape):\n",
    "    def draw(self):\n",
    "        print(\"Drawing a rectangle\")\n",
    "        \n",
    "rectangle = Rectangle()\n",
    "rectangle.draw()\n"
   ]
  },
  {
   "cell_type": "code",
   "execution_count": 8,
   "id": "d472636c-3f10-4240-a6bb-9c323342d4be",
   "metadata": {},
   "outputs": [
    {
     "name": "stdout",
     "output_type": "stream",
     "text": [
      "The animal speaks\n",
      "The mammal walks\n",
      "The dog barks\n"
     ]
    }
   ],
   "source": [
    "# 4. Multi-level inheritance: In this type of inheritance, a subclass inherits from a superclass, which in turn inherits from another superclass. \n",
    "class Animal:\n",
    "    def speak(self):\n",
    "        print(\"The animal speaks\")\n",
    "\n",
    "class Mammal(Animal):\n",
    "    def walk(self):\n",
    "        print(\"The mammal walks\")\n",
    "\n",
    "class Dog(Mammal):\n",
    "    def bark(self):\n",
    "        print(\"The dog barks\")\n",
    "\n",
    "dog = Dog()\n",
    "dog.speak()  \n",
    "dog.walk() \n",
    "dog.bark()   \n"
   ]
  }
 ],
 "metadata": {
  "kernelspec": {
   "display_name": "Python 3 (ipykernel)",
   "language": "python",
   "name": "python3"
  },
  "language_info": {
   "codemirror_mode": {
    "name": "ipython",
    "version": 3
   },
   "file_extension": ".py",
   "mimetype": "text/x-python",
   "name": "python",
   "nbconvert_exporter": "python",
   "pygments_lexer": "ipython3",
   "version": "3.10.8"
  }
 },
 "nbformat": 4,
 "nbformat_minor": 5
}
