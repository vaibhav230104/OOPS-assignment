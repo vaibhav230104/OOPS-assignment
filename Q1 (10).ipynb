{
 "cells": [
  {
   "cell_type": "code",
   "execution_count": 1,
   "id": "81802ba6-4d71-4207-b9a0-3b844afc7575",
   "metadata": {},
   "outputs": [],
   "source": [
    "#A class is like a blueprint, and an object is an actual implementation of that blueprint.\n",
    "class Car:\n",
    "    def __init__(self, make, model, year):\n",
    "        self.make = make\n",
    "        self.model = model\n",
    "        self.year = year\n",
    "        self.speed = 0\n",
    "\n",
    "    def accelerate(self):\n",
    "        self.speed += 5\n",
    "\n",
    "    def brake(self):\n",
    "        if self.speed >= 5:\n",
    "            self.speed -= 5\n",
    "        else:\n",
    "            self.speed = 0\n",
    "\n",
    "    def get_speed(self):\n",
    "        return self.speed\n"
   ]
  },
  {
   "cell_type": "code",
   "execution_count": 3,
   "id": "b900df97-ebd7-4444-baa7-58044f1f38c9",
   "metadata": {},
   "outputs": [
    {
     "name": "stdout",
     "output_type": "stream",
     "text": [
      "Toyota\n",
      "Accord\n",
      "5\n",
      "5\n"
     ]
    }
   ],
   "source": [
    "# Creating two car objects\n",
    "car1 = Car(\"Toyota\", \"Camry\", 2020)\n",
    "car2 = Car(\"Honda\", \"Accord\", 2019)\n",
    "\n",
    "print(car1.make)  \n",
    "print(car2.model)  \n",
    "\n",
    "car1.accelerate()\n",
    "print(car1.get_speed())  \n",
    "\n",
    "car2.accelerate()\n",
    "car2.accelerate()\n",
    "car2.brake()\n",
    "print(car2.get_speed()) \n"
   ]
  },
  {
   "cell_type": "code",
   "execution_count": null,
   "id": "4c2567a7-e27f-46fb-b837-c55a3456efe2",
   "metadata": {},
   "outputs": [],
   "source": []
  }
 ],
 "metadata": {
  "kernelspec": {
   "display_name": "Python 3 (ipykernel)",
   "language": "python",
   "name": "python3"
  },
  "language_info": {
   "codemirror_mode": {
    "name": "ipython",
    "version": 3
   },
   "file_extension": ".py",
   "mimetype": "text/x-python",
   "name": "python",
   "nbconvert_exporter": "python",
   "pygments_lexer": "ipython3",
   "version": "3.10.8"
  }
 },
 "nbformat": 4,
 "nbformat_minor": 5
}
