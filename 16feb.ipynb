{
 "cells": [
  {
   "cell_type": "code",
   "execution_count": 1,
   "id": "f7b49895-adbb-43b3-ae4c-8b734e2686a8",
   "metadata": {},
   "outputs": [],
   "source": [
    "# Q1. What is a Database? Difference between SQL and NoSQL Databases\n",
    "# Database: A database is an organized collection of structured information or data stored in a computer system. It allows for efficient data storage, retrieval, and management.\n",
    "\n",
    "# SQL Databases: These databases are relational and use Structured Query Language (SQL) for defining and manipulating the data. They have predefined schemas and are good for structured data. Examples: MySQL, PostgreSQL, SQLite.\n",
    "\n",
    "# NoSQL Databases: NoSQL databases are non-relational and don't require a fixed schema, making them more flexible for unstructured or semi-structured data. They can handle large volumes of data and are often used in big data and real-time web applications. Examples: MongoDB, Cassandra, Redis."
   ]
  },
  {
   "cell_type": "code",
   "execution_count": 2,
   "id": "cef20d0f-fad5-4de9-a669-01ce801c1f03",
   "metadata": {},
   "outputs": [],
   "source": [
    "# CREATE TABLE employees (\n",
    "#     id INT PRIMARY KEY,\n",
    "#     name VARCHAR(50),\n",
    "#     department VARCHAR(50)\n",
    "# );\n",
    "\n",
    "\n",
    "# DROP TABLE employees;\n",
    "\n",
    "\n",
    "# ALTER TABLE employees ADD COLUMN email VARCHAR(100);\n",
    "\n",
    "\n",
    "# TRUNCATE TABLE employees;\n"
   ]
  },
  {
   "cell_type": "code",
   "execution_count": 4,
   "id": "aeafba65-ca47-4ffc-8f0c-53abf9b18c00",
   "metadata": {},
   "outputs": [],
   "source": [
    "# INSERT INTO employees (id, name, department) VALUES (1, 'John Doe', 'IT');\n",
    "\n",
    "\n",
    "# UPDATE employees SET department = 'HR' WHERE id = 1;\n",
    "\n",
    "\n",
    "# DELETE FROM employees WHERE id = 1;\n"
   ]
  },
  {
   "cell_type": "code",
   "execution_count": 5,
   "id": "d9fbf533-d1f4-4288-b5d2-5e0bb25aa2e2",
   "metadata": {},
   "outputs": [],
   "source": [
    "# SELECT * FROM employees WHERE department = 'IT';\n"
   ]
  },
  {
   "cell_type": "code",
   "execution_count": 6,
   "id": "1ee81bab-765a-4783-a899-f477b29ee38d",
   "metadata": {},
   "outputs": [],
   "source": [
    "# Q5. Primary Key and Foreign Key\n",
    "# Primary Key: A primary key is a unique identifier for a record in a table. It ensures each record in a table is uniquely identifiable. Example: id column in an employees table.\n",
    "\n",
    "# Foreign Key: A foreign key establishes a relationship between two tables. It refers to the primary key in another table. Example: employee_id in a table referencing the id in an employees table."
   ]
  },
  {
   "cell_type": "code",
   "execution_count": 7,
   "id": "43398b6f-8e8e-49f5-bc15-edab2ef7031c",
   "metadata": {},
   "outputs": [
    {
     "ename": "ModuleNotFoundError",
     "evalue": "No module named 'mysql'",
     "output_type": "error",
     "traceback": [
      "\u001b[0;31m---------------------------------------------------------------------------\u001b[0m",
      "\u001b[0;31mModuleNotFoundError\u001b[0m                       Traceback (most recent call last)",
      "Cell \u001b[0;32mIn[7], line 1\u001b[0m\n\u001b[0;32m----> 1\u001b[0m \u001b[38;5;28;01mimport\u001b[39;00m \u001b[38;5;21;01mmysql\u001b[39;00m\u001b[38;5;21;01m.\u001b[39;00m\u001b[38;5;21;01mconnector\u001b[39;00m\n\u001b[1;32m      3\u001b[0m \u001b[38;5;66;03m# Establish connection\u001b[39;00m\n\u001b[1;32m      4\u001b[0m mydb \u001b[38;5;241m=\u001b[39m mysql\u001b[38;5;241m.\u001b[39mconnector\u001b[38;5;241m.\u001b[39mconnect(\n\u001b[1;32m      5\u001b[0m     host\u001b[38;5;241m=\u001b[39m\u001b[38;5;124m\"\u001b[39m\u001b[38;5;124mlocalhost\u001b[39m\u001b[38;5;124m\"\u001b[39m,\n\u001b[1;32m      6\u001b[0m     user\u001b[38;5;241m=\u001b[39m\u001b[38;5;124m\"\u001b[39m\u001b[38;5;124myourusername\u001b[39m\u001b[38;5;124m\"\u001b[39m,\n\u001b[1;32m      7\u001b[0m     password\u001b[38;5;241m=\u001b[39m\u001b[38;5;124m\"\u001b[39m\u001b[38;5;124myourpassword\u001b[39m\u001b[38;5;124m\"\u001b[39m,\n\u001b[1;32m      8\u001b[0m     database\u001b[38;5;241m=\u001b[39m\u001b[38;5;124m\"\u001b[39m\u001b[38;5;124myourdatabase\u001b[39m\u001b[38;5;124m\"\u001b[39m\n\u001b[1;32m      9\u001b[0m )\n",
      "\u001b[0;31mModuleNotFoundError\u001b[0m: No module named 'mysql'"
     ]
    }
   ],
   "source": []
  },
  {
   "cell_type": "code",
   "execution_count": null,
   "id": "4730463b-75f5-4e31-bfad-e51846bf173f",
   "metadata": {},
   "outputs": [],
   "source": [
    "import mysql.connector\n",
    "\n",
    "# Establish connection\n",
    "mydb = mysql.connector.connect(\n",
    "    host=\"localhost\",\n",
    "    user=\"yourusername\",\n",
    "    password=\"yourpassword\",\n",
    "    database=\"yourdatabase\"\n",
    ")\n",
    "\n",
    "# Create cursor object\n",
    "mycursor = mydb.cursor()\n",
    "\n",
    "# Execute SQL query\n",
    "mycursor.execute(\"SELECT * FROM yourtable\")\n",
    "\n",
    "# Fetch results\n",
    "result = mycursor.fetchall()\n"
   ]
  },
  {
   "cell_type": "code",
   "execution_count": null,
   "id": "ec7470ff-f9cf-4ca0-951f-eea476265956",
   "metadata": {},
   "outputs": [],
   "source": [
    "Q7. Order of Execution of SQL Clauses\n",
    "SELECT\n",
    "FROM\n",
    "JOIN\n",
    "WHERE\n",
    "GROUP BY\n",
    "HAVING\n",
    "ORDER BY"
   ]
  }
 ],
 "metadata": {
  "kernelspec": {
   "display_name": "Python 3 (ipykernel)",
   "language": "python",
   "name": "python3"
  },
  "language_info": {
   "codemirror_mode": {
    "name": "ipython",
    "version": 3
   },
   "file_extension": ".py",
   "mimetype": "text/x-python",
   "name": "python",
   "nbconvert_exporter": "python",
   "pygments_lexer": "ipython3",
   "version": "3.10.8"
  }
 },
 "nbformat": 4,
 "nbformat_minor": 5
}
