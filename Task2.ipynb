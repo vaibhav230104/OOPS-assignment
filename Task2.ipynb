{
 "cells": [
  {
   "cell_type": "code",
   "execution_count": 1,
   "id": "ab0a7c8e-404a-4907-a697-50e9802ff5a0",
   "metadata": {},
   "outputs": [
    {
     "name": "stdout",
     "output_type": "stream",
     "text": [
      "Invalid Password\n"
     ]
    }
   ],
   "source": [
    "import re\n",
    "\n",
    "def validate_password(password):\n",
    "    # Check if the password length is 10 characters\n",
    "    if len(password) != 10:\n",
    "        return \"Invalid Password\"\n",
    "\n",
    "    # Count uppercase, lowercase, digits, and special characters\n",
    "    uppercase_count = sum(1 for char in password if char.isupper())\n",
    "    lowercase_count = sum(1 for char in password if char.islower())\n",
    "    digit_count = sum(1 for char in password if char.isdigit())\n",
    "    special_count = len(re.findall(r'[!@#$%^&*()-_=+]', password))\n",
    "\n",
    "    # Check conditions\n",
    "    if (\n",
    "        uppercase_count >= 2\n",
    "        and lowercase_count >= 2\n",
    "        and digit_count >= 1\n",
    "        and special_count >= 3\n",
    "    ):\n",
    "        return \"Valid Password\"\n",
    "    else:\n",
    "        return \"Invalid Password\"\n",
    "\n",
    "# Example usage:\n",
    "password = \"Abcdef12!@#\"\n",
    "print(validate_password(password))  # Replace 'password' with the input from the user\n"
   ]
  },
  {
   "cell_type": "code",
   "execution_count": 2,
   "id": "d4a22e95-46c5-41b8-8722-b97037c5625f",
   "metadata": {},
   "outputs": [
    {
     "name": "stdout",
     "output_type": "stream",
     "text": [
      "['apple']\n"
     ]
    }
   ],
   "source": [
    "strings = ['apple', 'banana', 'cherry']\n",
    "starts_with_a = list(filter(lambda x: x.startswith('a'), strings))\n",
    "print(starts_with_a)\n"
   ]
  },
  {
   "cell_type": "code",
   "execution_count": 3,
   "id": "3a28b94b-15e8-4dfd-aac0-3817302d05e0",
   "metadata": {},
   "outputs": [
    {
     "name": "stdout",
     "output_type": "stream",
     "text": [
      "['123', '456']\n"
     ]
    }
   ],
   "source": [
    "strings = ['123', 'hello', '456']\n",
    "is_numeric = list(filter(lambda x: x.isnumeric(), strings))\n",
    "print(is_numeric)\n"
   ]
  },
  {
   "cell_type": "code",
   "execution_count": 4,
   "id": "6e8ac562-7540-4d23-90cc-e7d37b92dc44",
   "metadata": {},
   "outputs": [
    {
     "name": "stdout",
     "output_type": "stream",
     "text": [
      "[('orange', 80), ('mango', 99), ('grapes', 1000)]\n"
     ]
    }
   ],
   "source": [
    "fruits = [(\"mango\", 99), (\"orange\", 80), (\"grapes\", 1000)]\n",
    "sorted_fruits = sorted(fruits, key=lambda x: x[1])\n",
    "print(sorted_fruits)\n"
   ]
  },
  {
   "cell_type": "code",
   "execution_count": 5,
   "id": "840c3811-a00e-4b2e-b349-41719d14604f",
   "metadata": {},
   "outputs": [
    {
     "name": "stdout",
     "output_type": "stream",
     "text": [
      "[1, 4, 9, 16, 25, 36, 49, 64, 81, 100]\n"
     ]
    }
   ],
   "source": [
    "squares = [x**2 for x in range(1, 11)]\n",
    "print(squares)\n"
   ]
  },
  {
   "cell_type": "code",
   "execution_count": 6,
   "id": "28a3ef01-d90d-4719-9361-95c324bfc727",
   "metadata": {},
   "outputs": [
    {
     "name": "stdout",
     "output_type": "stream",
     "text": [
      "[1.0, 1.2599210498948732, 1.4422495703074083, 1.5874010519681994, 1.7099759466766968, 1.8171205928321397, 1.912931182772389, 2.0, 2.080083823051904, 2.154434690031884]\n"
     ]
    }
   ],
   "source": [
    "import math\n",
    "cube_roots = [math.pow(x, 1/3) for x in range(1, 11)]\n",
    "print(cube_roots)\n"
   ]
  },
  {
   "cell_type": "code",
   "execution_count": 7,
   "id": "9d85bcae-e025-4a1c-95c4-690be521f9ca",
   "metadata": {},
   "outputs": [
    {
     "name": "stdout",
     "output_type": "stream",
     "text": [
      "Odd\n"
     ]
    }
   ],
   "source": [
    "number = 7\n",
    "is_even = \"Even\" if number % 2 == 0 else \"Odd\"\n",
    "print(is_even)\n"
   ]
  },
  {
   "cell_type": "code",
   "execution_count": 8,
   "id": "8e16b55b-ca21-4893-941b-18c1436b1d48",
   "metadata": {},
   "outputs": [
    {
     "name": "stdout",
     "output_type": "stream",
     "text": [
      "[1, 3, 5, 7, 9]\n"
     ]
    }
   ],
   "source": [
    "numbers = [1, 2, 3, 4, 5, 6, 7, 8, 9, 10]\n",
    "odd_numbers = list(filter(lambda x: x % 2 != 0, numbers))\n",
    "print(odd_numbers)\n"
   ]
  },
  {
   "cell_type": "code",
   "execution_count": 9,
   "id": "c0196642-33b1-40e9-8861-a56dd0df0688",
   "metadata": {},
   "outputs": [
    {
     "name": "stdout",
     "output_type": "stream",
     "text": [
      "Positive: [1, 2, 3, 4, 5, 6]\n",
      "Negative: [-1, -2, -3, -4, -5]\n"
     ]
    }
   ],
   "source": [
    "numbers = [1, 2, 3, 4, 5, 6, -1, -2, -3, -4, -5, 0]\n",
    "positive_numbers = [num for num in numbers if num > 0]\n",
    "negative_numbers = [num for num in numbers if num < 0]\n",
    "print(\"Positive:\", positive_numbers)\n",
    "print(\"Negative:\", negative_numbers)\n"
   ]
  },
  {
   "cell_type": "code",
   "execution_count": null,
   "id": "81838d53-5e11-41cb-bd8e-33d7629d5b2f",
   "metadata": {},
   "outputs": [],
   "source": []
  }
 ],
 "metadata": {
  "kernelspec": {
   "display_name": "Python 3 (ipykernel)",
   "language": "python",
   "name": "python3"
  },
  "language_info": {
   "codemirror_mode": {
    "name": "ipython",
    "version": 3
   },
   "file_extension": ".py",
   "mimetype": "text/x-python",
   "name": "python",
   "nbconvert_exporter": "python",
   "pygments_lexer": "ipython3",
   "version": "3.10.8"
  }
 },
 "nbformat": 4,
 "nbformat_minor": 5
}
