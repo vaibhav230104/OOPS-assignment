{
 "cells": [
  {
   "cell_type": "code",
   "execution_count": 1,
   "id": "eabd5dbc-0155-4b31-b981-eae3aa2b2aba",
   "metadata": {},
   "outputs": [],
   "source": [
    "# Q1. What is an API? Give an example where an API is used in real life.\n",
    "\n",
    "# An API (Application Programming Interface) is a set of rules, protocols, and tools that allows different software applications to communicate with each other. An example is the Google Maps API, which enables developers to integrate maps and location services into their applications. This API provides functions to access map data, geolocation, and routing services.\n",
    "\n",
    "# Q2. Give advantages and disadvantages of using API.\n",
    "\n",
    "# Advantages:\n",
    "# - Reusability: APIs allow reuse of functionalities without rewriting code.\n",
    "# - Flexibility: Enables integration of diverse systems and services.\n",
    "# - Productivity: Speeds up development by using pre-built functionalities.\n",
    "# - Innovation: Facilitates innovation by enabling developers to build on existing services.\n",
    "\n",
    "# Disadvantages:\n",
    "# - Dependency: Relies on the stability and availability of external APIs.\n",
    "# - Security Risks: Exposes potential vulnerabilities if not properly secured.\n",
    "# - Complexity: Integration and maintenance can be complex, especially with multiple APIs.\n",
    "# - Versioning Issues: Changes in API versions can lead to compatibility problems.\n",
    "\n",
    "# Q3. What is a Web API? Differentiate between API and Web API.\n",
    "\n",
    "# A Web API specifically refers to APIs accessible over the web using HTTP protocols. It allows interaction between different web services. While APIs, in general, encompass any set of protocols for communication between software, a Web API specifically focuses on internet-based communication.\n",
    "\n",
    "# Q4. Explain REST and SOAP Architecture. Mention shortcomings of SOAP.\n",
    "\n",
    "# REST (Representational State Transfer) is an architectural style that uses standard HTTP methods like GET, POST, PUT, DELETE to manipulate resources. It operates on stateless communication and uses URLs to represent resources. \n",
    "\n",
    "# SOAP (Simple Object Access Protocol) is a protocol for exchanging structured information using XML over protocols like HTTP, SMTP, etc. It's more rigid and relies on a defined contract (WSDL) for communication.\n",
    "\n",
    "# Shortcomings of SOAP:\n",
    "# - Complexity: SOAP messages are verbose due to XML formatting, making them more complex than REST.\n",
    "# - Performance: SOAP typically has heavier overhead compared to REST due to XML parsing.\n",
    "# - Flexibility: SOAP's rigid structure makes it less flexible for resource-constrained environments or simple integrations.\n",
    "\n",
    "# Q5. Differentiate between REST and SOAP.\n",
    "\n",
    "# REST:\n",
    "# - Uses standard HTTP methods.\n",
    "# - Operates on stateless communication.\n",
    "# - Uses URLs to represent resources.\n",
    "# - Lightweight, more flexible, and simpler to use.\n",
    "# - Generally preferred for public APIs due to ease of use.\n",
    "\n",
    "# SOAP:\n",
    "# - Uses XML for message formatting.\n",
    "# - Operates on a stateful communication model.\n",
    "# - Requires a defined contract (WSDL) for communication.\n",
    "# - More heavyweight, rigid, and complex.\n",
    "# - Historically used in enterprise environments requiring strict protocols and security.\n",
    "\n"
   ]
  },
  {
   "cell_type": "code",
   "execution_count": null,
   "id": "cf6b160e-c2df-4ddb-94a7-f5d92063ab4e",
   "metadata": {},
   "outputs": [],
   "source": []
  }
 ],
 "metadata": {
  "kernelspec": {
   "display_name": "Python 3 (ipykernel)",
   "language": "python",
   "name": "python3"
  },
  "language_info": {
   "codemirror_mode": {
    "name": "ipython",
    "version": 3
   },
   "file_extension": ".py",
   "mimetype": "text/x-python",
   "name": "python",
   "nbconvert_exporter": "python",
   "pygments_lexer": "ipython3",
   "version": "3.10.8"
  }
 },
 "nbformat": 4,
 "nbformat_minor": 5
}
