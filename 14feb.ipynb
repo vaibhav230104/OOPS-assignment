{
 "cells": [
  {
   "cell_type": "code",
   "execution_count": 1,
   "id": "bfb7d2f6-b267-4fa3-8baf-afbe2363b015",
   "metadata": {},
   "outputs": [],
   "source": [
    "# 1. Multithreading in Python\n",
    "# Multithreading in Python refers to a concurrent execution of threads within a single process. Threads allow different parts of a program to run concurrently. It's used to perform multiple tasks simultaneously, particularly useful for I/O-bound tasks like network operations or handling multiple user inputs.\n",
    "\n",
    "# Threading Module in Python\n",
    "# The threading module is used to handle threads in Python.\n",
    "\n",
    "# Functions in Threading Module:\n",
    "# activeCount(): Returns the number of active threads in the current program.\n",
    "# currentThread(): Returns the current thread object.\n",
    "# enumerate(): Returns a list of all active Thread objects.\n",
    "# 3. Explanation of Thread Functions:\n",
    "# run(): This method represents the activity that a thread executes. It's overridden when subclassing the Thread class.\n",
    "# start(): Initiates the thread's activity by calling its run() method.\n",
    "# join(): Waits for the thread to complete its execution.\n",
    "# isAlive(): Checks whether the thread is alive (running)."
   ]
  },
  {
   "cell_type": "code",
   "execution_count": 2,
   "id": "3dee0b9d-7e4d-4570-976a-cd1d03d38477",
   "metadata": {},
   "outputs": [
    {
     "name": "stdout",
     "output_type": "stream",
     "text": [
      "Squares: [1, 4, 9, 16, 25]\n",
      "Cubes: [1, 8, 27, 64, 125]\n",
      "Both threads finished execution\n"
     ]
    }
   ],
   "source": [
    "import threading\n",
    "\n",
    "def print_squares():\n",
    "    squares = [x * x for x in range(1, 6)]\n",
    "    print(\"Squares:\", squares)\n",
    "\n",
    "def print_cubes():\n",
    "    cubes = [x * x * x for x in range(1, 6)]\n",
    "    print(\"Cubes:\", cubes)\n",
    "\n",
    "# Creating threads\n",
    "thread1 = threading.Thread(target=print_squares)\n",
    "thread2 = threading.Thread(target=print_cubes)\n",
    "\n",
    "# Starting threads\n",
    "thread1.start()\n",
    "thread2.start()\n",
    "\n",
    "# Waiting for threads to complete\n",
    "thread1.join()\n",
    "thread2.join()\n",
    "\n",
    "print(\"Both threads finished execution\")\n"
   ]
  },
  {
   "cell_type": "code",
   "execution_count": 3,
   "id": "214737ee-936d-4c04-a9a8-1f74af6a6319",
   "metadata": {},
   "outputs": [],
   "source": [
    "# 5. Advantages and Disadvantages of Multithreading\n",
    "# Advantages:\n",
    "\n",
    "# Concurrency: Enables simultaneous execution, enhancing performance for I/O-bound tasks.\n",
    "# Resource Sharing: Threads share the same memory space, allowing efficient data sharing.\n",
    "# Responsiveness: Allows applications to remain responsive during time-consuming operations.\n",
    "# Disadvantages:\n",
    "\n",
    "# Complexity: Synchronization and coordination between threads can lead to complex code.\n",
    "# Resource Conflict: Accessing shared resources concurrently can lead to conflicts and inconsistencies.\n",
    "# Debugging: Debugging multithreaded programs can be challenging due to non-deterministic behavior.\n",
    "# 6. Deadlocks and Race Conditions\n",
    "# Deadlock: It occurs when two or more threads are blocked forever, waiting for each other to release resources.\n",
    "# Race Condition: A race condition occurs when two or more threads access shared data concurrently, and the final outcome depends on the order of execution."
   ]
  },
  {
   "cell_type": "code",
   "execution_count": null,
   "id": "ed4bef20-5cb9-47f7-be3a-9d888aabe4e5",
   "metadata": {},
   "outputs": [],
   "source": []
  }
 ],
 "metadata": {
  "kernelspec": {
   "display_name": "Python 3 (ipykernel)",
   "language": "python",
   "name": "python3"
  },
  "language_info": {
   "codemirror_mode": {
    "name": "ipython",
    "version": 3
   },
   "file_extension": ".py",
   "mimetype": "text/x-python",
   "name": "python",
   "nbconvert_exporter": "python",
   "pygments_lexer": "ipython3",
   "version": "3.10.8"
  }
 },
 "nbformat": 4,
 "nbformat_minor": 5
}
